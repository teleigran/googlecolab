{
  "nbformat": 4,
  "nbformat_minor": 0,
  "metadata": {
    "colab": {
      "name": "intel.ipynb",
      "provenance": [],
      "collapsed_sections": [],
      "authorship_tag": "ABX9TyMyX2C7Zefti/FIaCO1HQyl",
      "include_colab_link": true
    },
    "kernelspec": {
      "name": "python3",
      "display_name": "Python 3",
      "language": "python"
    }
  },
  "cells": [
    {
      "cell_type": "code",
      "metadata": {
        "id": "wQWK29VehBzu",
        "outputId": "e3ad04a9-bc7b-49ff-96da-533547880be8",
        "colab": {
          "base_uri": "https://localhost:8080/"
        }
      },
      "source": [
        "!pip install investpy yahoo_fin requests_html yfinance yahoofinancials"
      ],
      "execution_count": 1,
      "outputs": [
        {
          "output_type": "stream",
          "name": "stdout",
          "text": [
            "Requirement already satisfied: investpy in c:\\users\\nemesyats\\anaconda3\\lib\\site-packages (1.0.1)\nRequirement already satisfied: yahoo_fin in c:\\users\\nemesyats\\anaconda3\\lib\\site-packages (0.8.6)\nRequirement already satisfied: requests_html in c:\\users\\nemesyats\\anaconda3\\lib\\site-packages (0.10.0)\nRequirement already satisfied: yfinance in c:\\users\\nemesyats\\anaconda3\\lib\\site-packages (0.1.55)\nRequirement already satisfied: yahoofinancials in c:\\users\\nemesyats\\anaconda3\\lib\\site-packages (1.6)\nRequirement already satisfied: setuptools>=41.2.0 in c:\\users\\nemesyats\\anaconda3\\lib\\site-packages (from investpy) (50.3.1.post20201107)\nRequirement already satisfied: pandas>=0.25.1 in c:\\users\\nemesyats\\anaconda3\\lib\\site-packages (from investpy) (1.1.3)\nRequirement already satisfied: lxml>=4.4.1 in c:\\users\\nemesyats\\anaconda3\\lib\\site-packages (from investpy) (4.6.1)\nRequirement already satisfied: Unidecode>=1.1.1 in c:\\users\\nemesyats\\anaconda3\\lib\\site-packages (from investpy) (1.1.2)\nRequirement already satisfied: pytz>=2019.3 in c:\\users\\nemesyats\\anaconda3\\lib\\site-packages (from investpy) (2020.1)\nRequirement already satisfied: requests>=2.22.0 in c:\\users\\nemesyats\\anaconda3\\lib\\site-packages (from investpy) (2.24.0)\nRequirement already satisfied: numpy>=1.17.2 in c:\\users\\nemesyats\\anaconda3\\lib\\site-packages (from investpy) (1.19.2)\nRequirement already satisfied: w3lib in c:\\users\\nemesyats\\anaconda3\\lib\\site-packages (from requests_html) (1.22.0)\nRequirement already satisfied: pyquery in c:\\users\\nemesyats\\anaconda3\\lib\\site-packages (from requests_html) (1.4.3)\nRequirement already satisfied: parse in c:\\users\\nemesyats\\anaconda3\\lib\\site-packages (from requests_html) (1.19.0)\nRequirement already satisfied: bs4 in c:\\users\\nemesyats\\anaconda3\\lib\\site-packages (from requests_html) (0.0.1)\nRequirement already satisfied: fake-useragent in c:\\users\\nemesyats\\anaconda3\\lib\\site-packages (from requests_html) (0.1.11)\nRequirement already satisfied: pyppeteer>=0.0.14 in c:\\users\\nemesyats\\anaconda3\\lib\\site-packages (from requests_html) (0.2.5)\nRequirement already satisfied: multitasking>=0.0.7 in c:\\users\\nemesyats\\anaconda3\\lib\\site-packages (from yfinance) (0.0.9)\nRequirement already satisfied: beautifulsoup4 in c:\\users\\nemesyats\\anaconda3\\lib\\site-packages (from yahoofinancials) (4.9.3)\nRequirement already satisfied: python-dateutil>=2.7.3 in c:\\users\\nemesyats\\anaconda3\\lib\\site-packages (from pandas>=0.25.1->investpy) (2.8.1)\nRequirement already satisfied: chardet<4,>=3.0.2 in c:\\users\\nemesyats\\anaconda3\\lib\\site-packages (from requests>=2.22.0->investpy) (3.0.4)\nRequirement already satisfied: urllib3!=1.25.0,!=1.25.1,<1.26,>=1.21.1 in c:\\users\\nemesyats\\anaconda3\\lib\\site-packages (from requests>=2.22.0->investpy) (1.25.11)\nRequirement already satisfied: idna<3,>=2.5 in c:\\users\\nemesyats\\anaconda3\\lib\\site-packages (from requests>=2.22.0->investpy) (2.10)\nRequirement already satisfied: certifi>=2017.4.17 in c:\\users\\nemesyats\\anaconda3\\lib\\site-packages (from requests>=2.22.0->investpy) (2020.6.20)\nRequirement already satisfied: six>=1.4.1 in c:\\users\\nemesyats\\anaconda3\\lib\\site-packages (from w3lib->requests_html) (1.15.0)\nRequirement already satisfied: cssselect>0.7.9 in c:\\users\\nemesyats\\anaconda3\\lib\\site-packages (from pyquery->requests_html) (1.1.0)\nRequirement already satisfied: tqdm<5.0.0,>=4.42.1 in c:\\users\\nemesyats\\anaconda3\\lib\\site-packages (from pyppeteer>=0.0.14->requests_html) (4.50.2)\nRequirement already satisfied: pyee<9.0.0,>=8.1.0 in c:\\users\\nemesyats\\anaconda3\\lib\\site-packages (from pyppeteer>=0.0.14->requests_html) (8.1.0)\nRequirement already satisfied: websockets<9.0,>=8.1 in c:\\users\\nemesyats\\anaconda3\\lib\\site-packages (from pyppeteer>=0.0.14->requests_html) (8.1)\nRequirement already satisfied: appdirs<2.0.0,>=1.4.3 in c:\\users\\nemesyats\\anaconda3\\lib\\site-packages (from pyppeteer>=0.0.14->requests_html) (1.4.4)\nRequirement already satisfied: soupsieve>1.2; python_version >= \"3.0\" in c:\\users\\nemesyats\\anaconda3\\lib\\site-packages (from beautifulsoup4->yahoofinancials) (2.0.1)\n"
          ]
        }
      ]
    },
    {
      "cell_type": "code",
      "metadata": {
        "id": "0bl3px3NGrgt",
        "outputId": "bf75da04-c22b-408f-9773-28e27f8ddcce",
        "colab": {
          "base_uri": "https://localhost:8080/",
          "height": 271
        }
      },
      "source": [
        "import investpy\n",
        "import pandas as pd\n",
        "\n",
        "pd.set_option('max_rows', 15)\n",
        "pd.set_option('display.max_colwidth', None)\n",
        "pd.set_option('display.float_format', '{:.2f}'.format)\n",
        "\n",
        "f_income = investpy.get_stock_financial_summary(stock=\"intc\",country=\"united states\",summary_type='income_statement', period='quarterly')\n",
        "f_cashflow = investpy.get_stock_financial_summary(stock=\"intc\",country=\"united states\",summary_type='cash_flow_statement', period='quarterly') \n",
        "f_balance = investpy.get_stock_financial_summary(stock=\"intc\",country=\"united states\",summary_type='balance_sheet', period='quarterly')\n",
        "pdList=[f_income,f_cashflow,f_balance]\n",
        "\n",
        "result = pd.concat(pdList,axis=1,sort=True)\n",
        "(result\n",
        " .T\n",
        " .style\n",
        " .format(\"{:.1f}\")\n",
        " .background_gradient(cmap='Blues', axis=1)\n",
        ")"
      ],
      "execution_count": 2,
      "outputs": [
        {
          "output_type": "execute_result",
          "data": {
            "text/plain": [
              "<pandas.io.formats.style.Styler at 0x1932acd7520>"
            ],
            "text/html": "<style  type=\"text/css\" >\n#T_9ebf49d3_676e_11eb_99f3_7085c2722175row0_col0{\n            background-color:  #08488e;\n            color:  #f1f1f1;\n        }#T_9ebf49d3_676e_11eb_99f3_7085c2722175row0_col1{\n            background-color:  #0d57a1;\n            color:  #f1f1f1;\n        }#T_9ebf49d3_676e_11eb_99f3_7085c2722175row0_col2,#T_9ebf49d3_676e_11eb_99f3_7085c2722175row1_col2,#T_9ebf49d3_676e_11eb_99f3_7085c2722175row2_col2,#T_9ebf49d3_676e_11eb_99f3_7085c2722175row3_col2,#T_9ebf49d3_676e_11eb_99f3_7085c2722175row4_col0,#T_9ebf49d3_676e_11eb_99f3_7085c2722175row5_col3,#T_9ebf49d3_676e_11eb_99f3_7085c2722175row6_col3,#T_9ebf49d3_676e_11eb_99f3_7085c2722175row7_col2,#T_9ebf49d3_676e_11eb_99f3_7085c2722175row8_col2,#T_9ebf49d3_676e_11eb_99f3_7085c2722175row9_col1,#T_9ebf49d3_676e_11eb_99f3_7085c2722175row10_col2{\n            background-color:  #f7fbff;\n            color:  #000000;\n        }#T_9ebf49d3_676e_11eb_99f3_7085c2722175row0_col3,#T_9ebf49d3_676e_11eb_99f3_7085c2722175row1_col0,#T_9ebf49d3_676e_11eb_99f3_7085c2722175row2_col0,#T_9ebf49d3_676e_11eb_99f3_7085c2722175row3_col3,#T_9ebf49d3_676e_11eb_99f3_7085c2722175row4_col3,#T_9ebf49d3_676e_11eb_99f3_7085c2722175row5_col0,#T_9ebf49d3_676e_11eb_99f3_7085c2722175row6_col0,#T_9ebf49d3_676e_11eb_99f3_7085c2722175row7_col0,#T_9ebf49d3_676e_11eb_99f3_7085c2722175row8_col3,#T_9ebf49d3_676e_11eb_99f3_7085c2722175row9_col3,#T_9ebf49d3_676e_11eb_99f3_7085c2722175row10_col1{\n            background-color:  #08306b;\n            color:  #f1f1f1;\n        }#T_9ebf49d3_676e_11eb_99f3_7085c2722175row1_col1{\n            background-color:  #aacfe5;\n            color:  #000000;\n        }#T_9ebf49d3_676e_11eb_99f3_7085c2722175row1_col3{\n            background-color:  #2d7dbb;\n            color:  #000000;\n        }#T_9ebf49d3_676e_11eb_99f3_7085c2722175row2_col1{\n            background-color:  #afd1e7;\n            color:  #000000;\n        }#T_9ebf49d3_676e_11eb_99f3_7085c2722175row2_col3{\n            background-color:  #8dc1dd;\n            color:  #000000;\n        }#T_9ebf49d3_676e_11eb_99f3_7085c2722175row3_col0{\n            background-color:  #08509b;\n            color:  #f1f1f1;\n        }#T_9ebf49d3_676e_11eb_99f3_7085c2722175row3_col1{\n            background-color:  #63a8d3;\n            color:  #000000;\n        }#T_9ebf49d3_676e_11eb_99f3_7085c2722175row4_col1{\n            background-color:  #9cc9e1;\n            color:  #000000;\n        }#T_9ebf49d3_676e_11eb_99f3_7085c2722175row4_col2{\n            background-color:  #3888c1;\n            color:  #000000;\n        }#T_9ebf49d3_676e_11eb_99f3_7085c2722175row5_col1{\n            background-color:  #9dcae1;\n            color:  #000000;\n        }#T_9ebf49d3_676e_11eb_99f3_7085c2722175row5_col2{\n            background-color:  #abd0e6;\n            color:  #000000;\n        }#T_9ebf49d3_676e_11eb_99f3_7085c2722175row6_col1{\n            background-color:  #135fa7;\n            color:  #f1f1f1;\n        }#T_9ebf49d3_676e_11eb_99f3_7085c2722175row6_col2{\n            background-color:  #e4eff9;\n            color:  #000000;\n        }#T_9ebf49d3_676e_11eb_99f3_7085c2722175row7_col1{\n            background-color:  #3686c0;\n            color:  #000000;\n        }#T_9ebf49d3_676e_11eb_99f3_7085c2722175row7_col3,#T_9ebf49d3_676e_11eb_99f3_7085c2722175row8_col0{\n            background-color:  #b2d2e8;\n            color:  #000000;\n        }#T_9ebf49d3_676e_11eb_99f3_7085c2722175row8_col1{\n            background-color:  #084387;\n            color:  #f1f1f1;\n        }#T_9ebf49d3_676e_11eb_99f3_7085c2722175row9_col0{\n            background-color:  #5da5d1;\n            color:  #000000;\n        }#T_9ebf49d3_676e_11eb_99f3_7085c2722175row9_col2{\n            background-color:  #e0ecf8;\n            color:  #000000;\n        }#T_9ebf49d3_676e_11eb_99f3_7085c2722175row10_col0{\n            background-color:  #c8dcf0;\n            color:  #000000;\n        }#T_9ebf49d3_676e_11eb_99f3_7085c2722175row10_col3{\n            background-color:  #09529d;\n            color:  #f1f1f1;\n        }</style><table id=\"T_9ebf49d3_676e_11eb_99f3_7085c2722175\" ><thead>    <tr>        <th class=\"index_name level0\" >Date</th>        <th class=\"col_heading level0 col0\" >2020-03-28 00:00:00</th>        <th class=\"col_heading level0 col1\" >2020-06-27 00:00:00</th>        <th class=\"col_heading level0 col2\" >2020-09-26 00:00:00</th>        <th class=\"col_heading level0 col3\" >2020-12-26 00:00:00</th>    </tr></thead><tbody>\n                <tr>\n                        <th id=\"T_9ebf49d3_676e_11eb_99f3_7085c2722175level0_row0\" class=\"row_heading level0 row0\" >Total Revenue</th>\n                        <td id=\"T_9ebf49d3_676e_11eb_99f3_7085c2722175row0_col0\" class=\"data row0 col0\" >19828.0</td>\n                        <td id=\"T_9ebf49d3_676e_11eb_99f3_7085c2722175row0_col1\" class=\"data row0 col1\" >19728.0</td>\n                        <td id=\"T_9ebf49d3_676e_11eb_99f3_7085c2722175row0_col2\" class=\"data row0 col2\" >18333.0</td>\n                        <td id=\"T_9ebf49d3_676e_11eb_99f3_7085c2722175row0_col3\" class=\"data row0 col3\" >19978.0</td>\n            </tr>\n            <tr>\n                        <th id=\"T_9ebf49d3_676e_11eb_99f3_7085c2722175level0_row1\" class=\"row_heading level0 row1\" >Gross Profit</th>\n                        <td id=\"T_9ebf49d3_676e_11eb_99f3_7085c2722175row1_col0\" class=\"data row1 col0\" >12016.0</td>\n                        <td id=\"T_9ebf49d3_676e_11eb_99f3_7085c2722175row1_col1\" class=\"data row1 col1\" >10507.0</td>\n                        <td id=\"T_9ebf49d3_676e_11eb_99f3_7085c2722175row1_col2\" class=\"data row1 col2\" >9741.0</td>\n                        <td id=\"T_9ebf49d3_676e_11eb_99f3_7085c2722175row1_col3\" class=\"data row1 col3\" >11348.0</td>\n            </tr>\n            <tr>\n                        <th id=\"T_9ebf49d3_676e_11eb_99f3_7085c2722175level0_row2\" class=\"row_heading level0 row2\" >Operating Income</th>\n                        <td id=\"T_9ebf49d3_676e_11eb_99f3_7085c2722175row2_col0\" class=\"data row2 col0\" >7038.0</td>\n                        <td id=\"T_9ebf49d3_676e_11eb_99f3_7085c2722175row2_col1\" class=\"data row2 col1\" >5697.0</td>\n                        <td id=\"T_9ebf49d3_676e_11eb_99f3_7085c2722175row2_col2\" class=\"data row2 col2\" >5059.0</td>\n                        <td id=\"T_9ebf49d3_676e_11eb_99f3_7085c2722175row2_col3\" class=\"data row2 col3\" >5884.0</td>\n            </tr>\n            <tr>\n                        <th id=\"T_9ebf49d3_676e_11eb_99f3_7085c2722175level0_row3\" class=\"row_heading level0 row3\" >Net Income</th>\n                        <td id=\"T_9ebf49d3_676e_11eb_99f3_7085c2722175row3_col0\" class=\"data row3 col0\" >5661.0</td>\n                        <td id=\"T_9ebf49d3_676e_11eb_99f3_7085c2722175row3_col1\" class=\"data row3 col1\" >5105.0</td>\n                        <td id=\"T_9ebf49d3_676e_11eb_99f3_7085c2722175row3_col2\" class=\"data row3 col2\" >4276.0</td>\n                        <td id=\"T_9ebf49d3_676e_11eb_99f3_7085c2722175row3_col3\" class=\"data row3 col3\" >5857.0</td>\n            </tr>\n            <tr>\n                        <th id=\"T_9ebf49d3_676e_11eb_99f3_7085c2722175level0_row4\" class=\"row_heading level0 row4\" >Cash From Operating Activities</th>\n                        <td id=\"T_9ebf49d3_676e_11eb_99f3_7085c2722175row4_col0\" class=\"data row4 col0\" >6158.0</td>\n                        <td id=\"T_9ebf49d3_676e_11eb_99f3_7085c2722175row4_col1\" class=\"data row4 col1\" >17315.0</td>\n                        <td id=\"T_9ebf49d3_676e_11eb_99f3_7085c2722175row4_col2\" class=\"data row4 col2\" >25494.0</td>\n                        <td id=\"T_9ebf49d3_676e_11eb_99f3_7085c2722175row4_col3\" class=\"data row4 col3\" >35384.0</td>\n            </tr>\n            <tr>\n                        <th id=\"T_9ebf49d3_676e_11eb_99f3_7085c2722175level0_row5\" class=\"row_heading level0 row5\" >Cash From Investing Activities</th>\n                        <td id=\"T_9ebf49d3_676e_11eb_99f3_7085c2722175row5_col0\" class=\"data row5 col0\" >-3736.0</td>\n                        <td id=\"T_9ebf49d3_676e_11eb_99f3_7085c2722175row5_col1\" class=\"data row5 col1\" >-14346.0</td>\n                        <td id=\"T_9ebf49d3_676e_11eb_99f3_7085c2722175row5_col2\" class=\"data row5 col2\" >-15112.0</td>\n                        <td id=\"T_9ebf49d3_676e_11eb_99f3_7085c2722175row5_col3\" class=\"data row5 col3\" >-20796.0</td>\n            </tr>\n            <tr>\n                        <th id=\"T_9ebf49d3_676e_11eb_99f3_7085c2722175level0_row6\" class=\"row_heading level0 row6\" >Cash From Financing Activities</th>\n                        <td id=\"T_9ebf49d3_676e_11eb_99f3_7085c2722175row6_col0\" class=\"data row6 col0\" >4764.0</td>\n                        <td id=\"T_9ebf49d3_676e_11eb_99f3_7085c2722175row6_col1\" class=\"data row6 col1\" >1573.0</td>\n                        <td id=\"T_9ebf49d3_676e_11eb_99f3_7085c2722175row6_col2\" class=\"data row6 col2\" >-11220.0</td>\n                        <td id=\"T_9ebf49d3_676e_11eb_99f3_7085c2722175row6_col3\" class=\"data row6 col3\" >-12917.0</td>\n            </tr>\n            <tr>\n                        <th id=\"T_9ebf49d3_676e_11eb_99f3_7085c2722175level0_row7\" class=\"row_heading level0 row7\" >Net Change in Cash</th>\n                        <td id=\"T_9ebf49d3_676e_11eb_99f3_7085c2722175row7_col0\" class=\"data row7 col0\" >7186.0</td>\n                        <td id=\"T_9ebf49d3_676e_11eb_99f3_7085c2722175row7_col1\" class=\"data row7 col1\" >4542.0</td>\n                        <td id=\"T_9ebf49d3_676e_11eb_99f3_7085c2722175row7_col2\" class=\"data row7 col2\" >-838.0</td>\n                        <td id=\"T_9ebf49d3_676e_11eb_99f3_7085c2722175row7_col3\" class=\"data row7 col3\" >1671.0</td>\n            </tr>\n            <tr>\n                        <th id=\"T_9ebf49d3_676e_11eb_99f3_7085c2722175level0_row8\" class=\"row_heading level0 row8\" >Total Assets</th>\n                        <td id=\"T_9ebf49d3_676e_11eb_99f3_7085c2722175row8_col0\" class=\"data row8 col0\" >147710.0</td>\n                        <td id=\"T_9ebf49d3_676e_11eb_99f3_7085c2722175row8_col1\" class=\"data row8 col1\" >152539.0</td>\n                        <td id=\"T_9ebf49d3_676e_11eb_99f3_7085c2722175row8_col2\" class=\"data row8 col2\" >145261.0</td>\n                        <td id=\"T_9ebf49d3_676e_11eb_99f3_7085c2722175row8_col3\" class=\"data row8 col3\" >153091.0</td>\n            </tr>\n            <tr>\n                        <th id=\"T_9ebf49d3_676e_11eb_99f3_7085c2722175level0_row9\" class=\"row_heading level0 row9\" >Total Liabilities</th>\n                        <td id=\"T_9ebf49d3_676e_11eb_99f3_7085c2722175row9_col0\" class=\"data row9 col0\" >71356.0</td>\n                        <td id=\"T_9ebf49d3_676e_11eb_99f3_7085c2722175row9_col1\" class=\"data row9 col1\" >70529.0</td>\n                        <td id=\"T_9ebf49d3_676e_11eb_99f3_7085c2722175row9_col2\" class=\"data row9 col2\" >70707.0</td>\n                        <td id=\"T_9ebf49d3_676e_11eb_99f3_7085c2722175row9_col3\" class=\"data row9 col3\" >72053.0</td>\n            </tr>\n            <tr>\n                        <th id=\"T_9ebf49d3_676e_11eb_99f3_7085c2722175level0_row10\" class=\"row_heading level0 row10\" >Total Equity</th>\n                        <td id=\"T_9ebf49d3_676e_11eb_99f3_7085c2722175row10_col0\" class=\"data row10 col0\" >76354.0</td>\n                        <td id=\"T_9ebf49d3_676e_11eb_99f3_7085c2722175row10_col1\" class=\"data row10 col1\" >82010.0</td>\n                        <td id=\"T_9ebf49d3_676e_11eb_99f3_7085c2722175row10_col2\" class=\"data row10 col2\" >74554.0</td>\n                        <td id=\"T_9ebf49d3_676e_11eb_99f3_7085c2722175row10_col3\" class=\"data row10 col3\" >81038.0</td>\n            </tr>\n    </tbody></table>"
          },
          "metadata": {},
          "execution_count": 2
        }
      ]
    },
    {
      "cell_type": "code",
      "metadata": {
        "id": "QaSCMcxUapMy",
        "outputId": "d8b844ea-6519-4e36-dddf-f6e92ea07c1f",
        "colab": {
          "base_uri": "https://localhost:8080/",
          "height": 1000
        }
      },
      "source": [
        "info = investpy.get_stock_information(stock=\"intc\",country=\"united states\")\n",
        "info\n",
        "\t\n",
        "import yahoo_fin.stock_info as si\n",
        "\n",
        "pd.set_option('max_rows', 15)\n",
        "pd.set_option('display.max_rows', None)\n",
        "pd.set_option('display.max_columns', None)\n",
        "pd.set_option('display.width', None)\n",
        "pd.set_option('display.max_colwidth', None)\n",
        "pd.set_option('display.float_format', '{:.2f}'.format)\n",
        "\n",
        "ticker = 'INTC'\n",
        "\n",
        "stats=si.get_stats(ticker)\n",
        "print(stats)\n",
        "vstats=si.get_stats_valuation(ticker)\n",
        "(vstats\n",
        " .style\n",
        " .background_gradient(cmap='Blues', axis=1)\n",
        ")"
      ],
      "execution_count": 3,
      "outputs": [
        {
          "output_type": "stream",
          "name": "stdout",
          "text": [
            "                                         Attribute         Value\n0                          Market Cap (intraday) 5       238.86B\n1                               Enterprise Value 3       248.69B\n2                                     Trailing P/E         11.90\n3                                    Forward P/E 1         12.12\n4                      PEG Ratio (5 yr expected) 1          2.28\n5                                Price/Sales (ttm)          3.07\n6                                 Price/Book (mrq)          2.95\n7                       Enterprise Value/Revenue 3          3.19\n8                        Enterprise Value/EBITDA 6          6.89\n9                                Beta (5Y Monthly)          0.73\n10                                52-Week Change 3       -14.03%\n11                         S&P500 52-Week Change 3        14.48%\n12                                  52 Week High 3         68.09\n13                                   52 Week Low 3         43.61\n14                         50-Day Moving Average 3         52.98\n15                        200-Day Moving Average 3         50.45\n16                             Avg Vol (3 month) 3        40.78M\n17                              Avg Vol (10 day) 3        37.75M\n18                            Shares Outstanding 5          4.1B\n19                                           Float         4.06B\n20                            % Held by Insiders 1         0.05%\n21                        % Held by Institutions 1        66.41%\n22                   Shares Short (Jan 14, 2021) 4        52.79M\n23                    Short Ratio (Jan 14, 2021) 4          1.18\n24               Short % of Float (Jan 14, 2021) 4         1.30%\n25  Short % of Shares Outstanding (Jan 14, 2021) 4         1.30%\n26       Shares Short (prior month Dec 14, 2020) 4        73.45M\n27                  Forward Annual Dividend Rate 4          1.39\n28                 Forward Annual Dividend Yield 4         2.40%\n29                 Trailing Annual Dividend Rate 3          1.32\n30                Trailing Annual Dividend Yield 3         2.30%\n31                 5 Year Average Dividend Yield 4          2.58\n32                                  Payout Ratio 4        26.72%\n33                                 Dividend Date 3  Feb 28, 2021\n34                              Ex-Dividend Date 4  Feb 03, 2021\n35                             Last Split Factor 2           2:1\n36                               Last Split Date 3  Jul 30, 2000\n37                                Fiscal Year Ends  Dec 25, 2020\n38                       Most Recent Quarter (mrq)  Dec 25, 2020\n39                                   Profit Margin        26.84%\n40                          Operating Margin (ttm)        30.66%\n41                          Return on Assets (ttm)        10.31%\n42                          Return on Equity (ttm)        26.36%\n43                                   Revenue (ttm)        77.87B\n44                         Revenue Per Share (ttm)         18.54\n45                  Quarterly Revenue Growth (yoy)        -1.10%\n46                              Gross Profit (ttm)        43.61B\n47                                          EBITDA        36.12B\n48                  Net Income Avi to Common (ttm)         20.9B\n49                               Diluted EPS (ttm)          4.94\n50                 Quarterly Earnings Growth (yoy)       -15.20%\n51                                Total Cash (mrq)        23.89B\n52                      Total Cash Per Share (mrq)          5.88\n53                                Total Debt (mrq)        36.93B\n54                         Total Debt/Equity (mrq)         45.57\n55                             Current Ratio (mrq)          1.91\n56                      Book Value Per Share (mrq)         19.95\n57                       Operating Cash Flow (ttm)        35.38B\n58                    Levered Free Cash Flow (ttm)        12.39B\n"
          ]
        },
        {
          "output_type": "execute_result",
          "data": {
            "text/plain": [
              "<pandas.io.formats.style.Styler at 0x1932acca4f0>"
            ],
            "text/html": "<style  type=\"text/css\" >\n</style><table id=\"T_a03347d9_676e_11eb_9236_7085c2722175\" ><thead>    <tr>        <th class=\"blank level0\" ></th>        <th class=\"col_heading level0 col0\" >0</th>        <th class=\"col_heading level0 col1\" >1</th>    </tr></thead><tbody>\n                <tr>\n                        <th id=\"T_a03347d9_676e_11eb_9236_7085c2722175level0_row0\" class=\"row_heading level0 row0\" >0</th>\n                        <td id=\"T_a03347d9_676e_11eb_9236_7085c2722175row0_col0\" class=\"data row0 col0\" >Market Cap (intraday) 5</td>\n                        <td id=\"T_a03347d9_676e_11eb_9236_7085c2722175row0_col1\" class=\"data row0 col1\" >238.86B</td>\n            </tr>\n            <tr>\n                        <th id=\"T_a03347d9_676e_11eb_9236_7085c2722175level0_row1\" class=\"row_heading level0 row1\" >1</th>\n                        <td id=\"T_a03347d9_676e_11eb_9236_7085c2722175row1_col0\" class=\"data row1 col0\" >Enterprise Value 3</td>\n                        <td id=\"T_a03347d9_676e_11eb_9236_7085c2722175row1_col1\" class=\"data row1 col1\" >248.69B</td>\n            </tr>\n            <tr>\n                        <th id=\"T_a03347d9_676e_11eb_9236_7085c2722175level0_row2\" class=\"row_heading level0 row2\" >2</th>\n                        <td id=\"T_a03347d9_676e_11eb_9236_7085c2722175row2_col0\" class=\"data row2 col0\" >Trailing P/E</td>\n                        <td id=\"T_a03347d9_676e_11eb_9236_7085c2722175row2_col1\" class=\"data row2 col1\" >11.90</td>\n            </tr>\n            <tr>\n                        <th id=\"T_a03347d9_676e_11eb_9236_7085c2722175level0_row3\" class=\"row_heading level0 row3\" >3</th>\n                        <td id=\"T_a03347d9_676e_11eb_9236_7085c2722175row3_col0\" class=\"data row3 col0\" >Forward P/E 1</td>\n                        <td id=\"T_a03347d9_676e_11eb_9236_7085c2722175row3_col1\" class=\"data row3 col1\" >12.12</td>\n            </tr>\n            <tr>\n                        <th id=\"T_a03347d9_676e_11eb_9236_7085c2722175level0_row4\" class=\"row_heading level0 row4\" >4</th>\n                        <td id=\"T_a03347d9_676e_11eb_9236_7085c2722175row4_col0\" class=\"data row4 col0\" >PEG Ratio (5 yr expected) 1</td>\n                        <td id=\"T_a03347d9_676e_11eb_9236_7085c2722175row4_col1\" class=\"data row4 col1\" >2.28</td>\n            </tr>\n            <tr>\n                        <th id=\"T_a03347d9_676e_11eb_9236_7085c2722175level0_row5\" class=\"row_heading level0 row5\" >5</th>\n                        <td id=\"T_a03347d9_676e_11eb_9236_7085c2722175row5_col0\" class=\"data row5 col0\" >Price/Sales (ttm)</td>\n                        <td id=\"T_a03347d9_676e_11eb_9236_7085c2722175row5_col1\" class=\"data row5 col1\" >3.07</td>\n            </tr>\n            <tr>\n                        <th id=\"T_a03347d9_676e_11eb_9236_7085c2722175level0_row6\" class=\"row_heading level0 row6\" >6</th>\n                        <td id=\"T_a03347d9_676e_11eb_9236_7085c2722175row6_col0\" class=\"data row6 col0\" >Price/Book (mrq)</td>\n                        <td id=\"T_a03347d9_676e_11eb_9236_7085c2722175row6_col1\" class=\"data row6 col1\" >2.95</td>\n            </tr>\n            <tr>\n                        <th id=\"T_a03347d9_676e_11eb_9236_7085c2722175level0_row7\" class=\"row_heading level0 row7\" >7</th>\n                        <td id=\"T_a03347d9_676e_11eb_9236_7085c2722175row7_col0\" class=\"data row7 col0\" >Enterprise Value/Revenue 3</td>\n                        <td id=\"T_a03347d9_676e_11eb_9236_7085c2722175row7_col1\" class=\"data row7 col1\" >3.19</td>\n            </tr>\n            <tr>\n                        <th id=\"T_a03347d9_676e_11eb_9236_7085c2722175level0_row8\" class=\"row_heading level0 row8\" >8</th>\n                        <td id=\"T_a03347d9_676e_11eb_9236_7085c2722175row8_col0\" class=\"data row8 col0\" >Enterprise Value/EBITDA 6</td>\n                        <td id=\"T_a03347d9_676e_11eb_9236_7085c2722175row8_col1\" class=\"data row8 col1\" >6.89</td>\n            </tr>\n    </tbody></table>"
          },
          "metadata": {},
          "execution_count": 3
        }
      ]
    },
    {
      "cell_type": "markdown",
      "metadata": {
        "id": "up_oPPnW-tZH"
      },
      "source": [
        "Основные показатели на которые смотрим:\n",
        "\n",
        "\n",
        "*   Среднее значение P/E за последние 5 лет.  Но лучше PEG\n",
        "*   Динамика P/B за последние 5 лет\n",
        "*   P/S - отношение капитализации к выручке (объему продаж)\n",
        "\n"
      ]
    },
    {
      "cell_type": "code",
      "metadata": {
        "id": "I657aziY_UIz",
        "outputId": "57226423-7e78-45b7-f520-624d8abc53a3",
        "colab": {
          "base_uri": "https://localhost:8080/"
        }
      },
      "source": [
        "import statistics\n",
        "\n",
        "PEG = vstats.T[4][1:]\n",
        "TPE = vstats.T[2][1:]\n",
        "PB  = vstats.T[6][1:]\n",
        "PS  = vstats.T[5][1:]\n",
        "\n",
        "\n",
        "TPE_MED = statistics.median(map(float,TPE))\n",
        "PB_MED  = statistics.median(map(float,PB))\n",
        "PS_MED  = statistics.median(map(float,PS))\n",
        "\n",
        "print (\"Trailing P/E >>  \"+str(TPE_MED)+ \"\\n P/B  >>  \"+str(PB_MED)+\"\\n P/S >>  \"+ str(PS_MED))\n",
        "\n",
        "\n",
        "if ( float(PB[1]) < float(PB[len(PB)-1]) and  float(PB[1]) < float(PB_MED)  ):\n",
        "    print (\" P/B   from \"+str(PB[len(PB)-1])+\" to  \"+str(PB[1]) )\n",
        "    print( \"Рыночная цена ниже  реальной стоимости. Признак недооцененности\")\n",
        "\n",
        "if ( float(PS[1]) < float(PS[len(PS)-1]) or float(PS[1]) < float(PS_MED)  ):\n",
        "    print (\" P/B   from \"+str(PS[len(PS)-1])+\" to  \"+str(PS[1]) )\n",
        "    print( \"Рост рыночной цены отностиельно выручки замедляется  Признак недооцененности\")"
      ],
      "execution_count": 6,
      "outputs": [
        {
          "output_type": "stream",
          "name": "stdout",
          "text": [
            "Trailing P/E >>  11.9\n P/B  >>  2.95\n P/S >>  3.07\n"
          ]
        },
        {
          "output_type": "error",
          "ename": "KeyError",
          "evalue": "0",
          "traceback": [
            "\u001b[1;31m---------------------------------------------------------------------------\u001b[0m",
            "\u001b[1;31mKeyError\u001b[0m                                  Traceback (most recent call last)",
            "\u001b[1;32m~\\anaconda3\\lib\\site-packages\\pandas\\core\\indexes\\base.py\u001b[0m in \u001b[0;36mget_loc\u001b[1;34m(self, key, method, tolerance)\u001b[0m\n\u001b[0;32m   2894\u001b[0m             \u001b[1;32mtry\u001b[0m\u001b[1;33m:\u001b[0m\u001b[1;33m\u001b[0m\u001b[1;33m\u001b[0m\u001b[0m\n\u001b[1;32m-> 2895\u001b[1;33m                 \u001b[1;32mreturn\u001b[0m \u001b[0mself\u001b[0m\u001b[1;33m.\u001b[0m\u001b[0m_engine\u001b[0m\u001b[1;33m.\u001b[0m\u001b[0mget_loc\u001b[0m\u001b[1;33m(\u001b[0m\u001b[0mcasted_key\u001b[0m\u001b[1;33m)\u001b[0m\u001b[1;33m\u001b[0m\u001b[1;33m\u001b[0m\u001b[0m\n\u001b[0m\u001b[0;32m   2896\u001b[0m             \u001b[1;32mexcept\u001b[0m \u001b[0mKeyError\u001b[0m \u001b[1;32mas\u001b[0m \u001b[0merr\u001b[0m\u001b[1;33m:\u001b[0m\u001b[1;33m\u001b[0m\u001b[1;33m\u001b[0m\u001b[0m\n",
            "\u001b[1;32mpandas\\_libs\\index.pyx\u001b[0m in \u001b[0;36mpandas._libs.index.IndexEngine.get_loc\u001b[1;34m()\u001b[0m\n",
            "\u001b[1;32mpandas\\_libs\\index.pyx\u001b[0m in \u001b[0;36mpandas._libs.index.IndexEngine.get_loc\u001b[1;34m()\u001b[0m\n",
            "\u001b[1;32mpandas\\_libs\\hashtable_class_helper.pxi\u001b[0m in \u001b[0;36mpandas._libs.hashtable.Int64HashTable.get_item\u001b[1;34m()\u001b[0m\n",
            "\u001b[1;32mpandas\\_libs\\hashtable_class_helper.pxi\u001b[0m in \u001b[0;36mpandas._libs.hashtable.Int64HashTable.get_item\u001b[1;34m()\u001b[0m\n",
            "\u001b[1;31mKeyError\u001b[0m: 0",
            "\nThe above exception was the direct cause of the following exception:\n",
            "\u001b[1;31mKeyError\u001b[0m                                  Traceback (most recent call last)",
            "\u001b[1;32m<ipython-input-6-13c4818b35aa>\u001b[0m in \u001b[0;36m<module>\u001b[1;34m\u001b[0m\n\u001b[0;32m     14\u001b[0m \u001b[1;33m\u001b[0m\u001b[0m\n\u001b[0;32m     15\u001b[0m \u001b[1;33m\u001b[0m\u001b[0m\n\u001b[1;32m---> 16\u001b[1;33m \u001b[1;32mif\u001b[0m \u001b[1;33m(\u001b[0m \u001b[0mfloat\u001b[0m\u001b[1;33m(\u001b[0m\u001b[0mPB\u001b[0m\u001b[1;33m[\u001b[0m\u001b[1;36m1\u001b[0m\u001b[1;33m]\u001b[0m\u001b[1;33m)\u001b[0m \u001b[1;33m<\u001b[0m \u001b[0mfloat\u001b[0m\u001b[1;33m(\u001b[0m\u001b[0mPB\u001b[0m\u001b[1;33m[\u001b[0m\u001b[0mlen\u001b[0m\u001b[1;33m(\u001b[0m\u001b[0mPB\u001b[0m\u001b[1;33m)\u001b[0m\u001b[1;33m-\u001b[0m\u001b[1;36m1\u001b[0m\u001b[1;33m]\u001b[0m\u001b[1;33m)\u001b[0m \u001b[1;32mand\u001b[0m  \u001b[0mfloat\u001b[0m\u001b[1;33m(\u001b[0m\u001b[0mPB\u001b[0m\u001b[1;33m[\u001b[0m\u001b[1;36m1\u001b[0m\u001b[1;33m]\u001b[0m\u001b[1;33m)\u001b[0m \u001b[1;33m<\u001b[0m \u001b[0mfloat\u001b[0m\u001b[1;33m(\u001b[0m\u001b[0mPB_MED\u001b[0m\u001b[1;33m)\u001b[0m  \u001b[1;33m)\u001b[0m\u001b[1;33m:\u001b[0m\u001b[1;33m\u001b[0m\u001b[1;33m\u001b[0m\u001b[0m\n\u001b[0m\u001b[0;32m     17\u001b[0m     \u001b[0mprint\u001b[0m \u001b[1;33m(\u001b[0m\u001b[1;34m\" P/B   from \"\u001b[0m\u001b[1;33m+\u001b[0m\u001b[0mstr\u001b[0m\u001b[1;33m(\u001b[0m\u001b[0mPB\u001b[0m\u001b[1;33m[\u001b[0m\u001b[0mlen\u001b[0m\u001b[1;33m(\u001b[0m\u001b[0mPB\u001b[0m\u001b[1;33m)\u001b[0m\u001b[1;33m-\u001b[0m\u001b[1;36m1\u001b[0m\u001b[1;33m]\u001b[0m\u001b[1;33m)\u001b[0m\u001b[1;33m+\u001b[0m\u001b[1;34m\" to  \"\u001b[0m\u001b[1;33m+\u001b[0m\u001b[0mstr\u001b[0m\u001b[1;33m(\u001b[0m\u001b[0mPB\u001b[0m\u001b[1;33m[\u001b[0m\u001b[1;36m1\u001b[0m\u001b[1;33m]\u001b[0m\u001b[1;33m)\u001b[0m \u001b[1;33m)\u001b[0m\u001b[1;33m\u001b[0m\u001b[1;33m\u001b[0m\u001b[0m\n\u001b[0;32m     18\u001b[0m     \u001b[0mprint\u001b[0m\u001b[1;33m(\u001b[0m \u001b[1;34m\"Рыночная цена ниже  реальной стоимости. Признак недооцененности\"\u001b[0m\u001b[1;33m)\u001b[0m\u001b[1;33m\u001b[0m\u001b[1;33m\u001b[0m\u001b[0m\n",
            "\u001b[1;32m~\\anaconda3\\lib\\site-packages\\pandas\\core\\series.py\u001b[0m in \u001b[0;36m__getitem__\u001b[1;34m(self, key)\u001b[0m\n\u001b[0;32m    880\u001b[0m \u001b[1;33m\u001b[0m\u001b[0m\n\u001b[0;32m    881\u001b[0m         \u001b[1;32melif\u001b[0m \u001b[0mkey_is_scalar\u001b[0m\u001b[1;33m:\u001b[0m\u001b[1;33m\u001b[0m\u001b[1;33m\u001b[0m\u001b[0m\n\u001b[1;32m--> 882\u001b[1;33m             \u001b[1;32mreturn\u001b[0m \u001b[0mself\u001b[0m\u001b[1;33m.\u001b[0m\u001b[0m_get_value\u001b[0m\u001b[1;33m(\u001b[0m\u001b[0mkey\u001b[0m\u001b[1;33m)\u001b[0m\u001b[1;33m\u001b[0m\u001b[1;33m\u001b[0m\u001b[0m\n\u001b[0m\u001b[0;32m    883\u001b[0m \u001b[1;33m\u001b[0m\u001b[0m\n\u001b[0;32m    884\u001b[0m         \u001b[1;32mif\u001b[0m \u001b[0mis_hashable\u001b[0m\u001b[1;33m(\u001b[0m\u001b[0mkey\u001b[0m\u001b[1;33m)\u001b[0m\u001b[1;33m:\u001b[0m\u001b[1;33m\u001b[0m\u001b[1;33m\u001b[0m\u001b[0m\n",
            "\u001b[1;32m~\\anaconda3\\lib\\site-packages\\pandas\\core\\series.py\u001b[0m in \u001b[0;36m_get_value\u001b[1;34m(self, label, takeable)\u001b[0m\n\u001b[0;32m    987\u001b[0m \u001b[1;33m\u001b[0m\u001b[0m\n\u001b[0;32m    988\u001b[0m         \u001b[1;31m# Similar to Index.get_value, but we do not fall back to positional\u001b[0m\u001b[1;33m\u001b[0m\u001b[1;33m\u001b[0m\u001b[1;33m\u001b[0m\u001b[0m\n\u001b[1;32m--> 989\u001b[1;33m         \u001b[0mloc\u001b[0m \u001b[1;33m=\u001b[0m \u001b[0mself\u001b[0m\u001b[1;33m.\u001b[0m\u001b[0mindex\u001b[0m\u001b[1;33m.\u001b[0m\u001b[0mget_loc\u001b[0m\u001b[1;33m(\u001b[0m\u001b[0mlabel\u001b[0m\u001b[1;33m)\u001b[0m\u001b[1;33m\u001b[0m\u001b[1;33m\u001b[0m\u001b[0m\n\u001b[0m\u001b[0;32m    990\u001b[0m         \u001b[1;32mreturn\u001b[0m \u001b[0mself\u001b[0m\u001b[1;33m.\u001b[0m\u001b[0mindex\u001b[0m\u001b[1;33m.\u001b[0m\u001b[0m_get_values_for_loc\u001b[0m\u001b[1;33m(\u001b[0m\u001b[0mself\u001b[0m\u001b[1;33m,\u001b[0m \u001b[0mloc\u001b[0m\u001b[1;33m,\u001b[0m \u001b[0mlabel\u001b[0m\u001b[1;33m)\u001b[0m\u001b[1;33m\u001b[0m\u001b[1;33m\u001b[0m\u001b[0m\n\u001b[0;32m    991\u001b[0m \u001b[1;33m\u001b[0m\u001b[0m\n",
            "\u001b[1;32m~\\anaconda3\\lib\\site-packages\\pandas\\core\\indexes\\base.py\u001b[0m in \u001b[0;36mget_loc\u001b[1;34m(self, key, method, tolerance)\u001b[0m\n\u001b[0;32m   2895\u001b[0m                 \u001b[1;32mreturn\u001b[0m \u001b[0mself\u001b[0m\u001b[1;33m.\u001b[0m\u001b[0m_engine\u001b[0m\u001b[1;33m.\u001b[0m\u001b[0mget_loc\u001b[0m\u001b[1;33m(\u001b[0m\u001b[0mcasted_key\u001b[0m\u001b[1;33m)\u001b[0m\u001b[1;33m\u001b[0m\u001b[1;33m\u001b[0m\u001b[0m\n\u001b[0;32m   2896\u001b[0m             \u001b[1;32mexcept\u001b[0m \u001b[0mKeyError\u001b[0m \u001b[1;32mas\u001b[0m \u001b[0merr\u001b[0m\u001b[1;33m:\u001b[0m\u001b[1;33m\u001b[0m\u001b[1;33m\u001b[0m\u001b[0m\n\u001b[1;32m-> 2897\u001b[1;33m                 \u001b[1;32mraise\u001b[0m \u001b[0mKeyError\u001b[0m\u001b[1;33m(\u001b[0m\u001b[0mkey\u001b[0m\u001b[1;33m)\u001b[0m \u001b[1;32mfrom\u001b[0m \u001b[0merr\u001b[0m\u001b[1;33m\u001b[0m\u001b[1;33m\u001b[0m\u001b[0m\n\u001b[0m\u001b[0;32m   2898\u001b[0m \u001b[1;33m\u001b[0m\u001b[0m\n\u001b[0;32m   2899\u001b[0m         \u001b[1;32mif\u001b[0m \u001b[0mtolerance\u001b[0m \u001b[1;32mis\u001b[0m \u001b[1;32mnot\u001b[0m \u001b[1;32mNone\u001b[0m\u001b[1;33m:\u001b[0m\u001b[1;33m\u001b[0m\u001b[1;33m\u001b[0m\u001b[0m\n",
            "\u001b[1;31mKeyError\u001b[0m: 0"
          ]
        }
      ]
    }
  ]
}